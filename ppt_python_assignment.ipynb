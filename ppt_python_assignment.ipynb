{
  "nbformat": 4,
  "nbformat_minor": 0,
  "metadata": {
    "colab": {
      "provenance": []
    },
    "kernelspec": {
      "name": "python3",
      "display_name": "Python 3"
    },
    "language_info": {
      "name": "python"
    }
  },
  "cells": [
    {
      "cell_type": "markdown",
      "source": [
        "1. Write a Python program to reverse a string without using any built-in string reversal functions.\n"
      ],
      "metadata": {
        "id": "8WqUET9qzewe"
      }
    },
    {
      "cell_type": "code",
      "source": [
        "def reverse_string(string):\n",
        "    reversed_string = \"\"\n",
        "    for i in range(len(string) - 1, -1, -1):\n",
        "        reversed_string += string[i]\n",
        "    return reversed_string\n",
        "\n",
        "# Test the function\n",
        "input_string = input(\"Enter a string: \")\n",
        "reversed_string = reverse_string(input_string)\n",
        "print(\"Reversed string:\", reversed_string)\n"
      ],
      "metadata": {
        "colab": {
          "base_uri": "https://localhost:8080/"
        },
        "id": "jPfQApBGz7GK",
        "outputId": "288ad409-fd6d-442c-a6fd-ccb6f61b2114"
      },
      "execution_count": null,
      "outputs": [
        {
          "output_type": "stream",
          "name": "stdout",
          "text": [
            "Enter a string: anish\n",
            "Reversed string: hsina\n"
          ]
        }
      ]
    },
    {
      "cell_type": "code",
      "source": [],
      "metadata": {
        "id": "noWr105t0itD"
      },
      "execution_count": null,
      "outputs": []
    },
    {
      "cell_type": "markdown",
      "source": [
        "2. Implement a function to check if a given string is a palindrome"
      ],
      "metadata": {
        "id": "Fv2NI6-I0z2e"
      }
    },
    {
      "cell_type": "code",
      "source": [
        "def is_palindrome(string):\n",
        "    # Remove whitespace and convert to lowercase\n",
        "    string = string.replace(\" \", \"\").lower()\n",
        "\n",
        "    # Compare characters from both ends of the string\n",
        "    left = 0\n",
        "    right = len(string) - 1\n",
        "\n",
        "    while left < right:\n",
        "        if string[left] != string[right]:\n",
        "            return False\n",
        "        left += 1\n",
        "        right -= 1\n",
        "\n",
        "    return True\n",
        "\n",
        "# Test the function\n",
        "input_string = input(\"Enter a string: \")\n",
        "if is_palindrome(input_string):\n",
        "    print(\"The string is a palindrome.\")\n",
        "else:\n",
        "    print(\"The string is not a palindrome.\")\n"
      ],
      "metadata": {
        "colab": {
          "base_uri": "https://localhost:8080/"
        },
        "id": "Q-9Tabl200ns",
        "outputId": "9ca9f58e-298f-4724-c79f-9730585db742"
      },
      "execution_count": null,
      "outputs": [
        {
          "output_type": "stream",
          "name": "stdout",
          "text": [
            "Enter a string: manish\n",
            "The string is not a palindrome.\n"
          ]
        }
      ]
    },
    {
      "cell_type": "code",
      "source": [],
      "metadata": {
        "id": "2qp2AY5-0--C"
      },
      "execution_count": null,
      "outputs": []
    },
    {
      "cell_type": "markdown",
      "source": [
        "3. Write a program to find the largest element in a given list."
      ],
      "metadata": {
        "id": "nXXby4l01Equ"
      }
    },
    {
      "cell_type": "code",
      "source": [
        "def largest_number(number):\n",
        "  number.sort()\n",
        "  largest = number[-1]\n",
        "  print(f'List :- {number} , Largest Number:- {largest}')"
      ],
      "metadata": {
        "id": "5jKn4zL663AK"
      },
      "execution_count": null,
      "outputs": []
    },
    {
      "cell_type": "code",
      "source": [
        "largest_number([15,25,60,190,15,10,79,12])"
      ],
      "metadata": {
        "colab": {
          "base_uri": "https://localhost:8080/"
        },
        "id": "GYxvJM_G7bYZ",
        "outputId": "40b3d041-ea2f-4828-92d6-9d2e3c26bae3"
      },
      "execution_count": null,
      "outputs": [
        {
          "output_type": "stream",
          "name": "stdout",
          "text": [
            "List :- [10, 12, 15, 15, 25, 60, 79, 190] , Largest Number:- 190\n"
          ]
        }
      ]
    },
    {
      "cell_type": "code",
      "source": [],
      "metadata": {
        "id": "d_e2NQmh7-u6"
      },
      "execution_count": null,
      "outputs": []
    },
    {
      "cell_type": "markdown",
      "source": [
        "4. Implement a function to count the occurrence of each element in a list."
      ],
      "metadata": {
        "id": "QhXyg1cj8Icg"
      }
    },
    {
      "cell_type": "code",
      "source": [
        "def count_ele(element):\n",
        "  for ele in element:\n",
        "    print(f\"Element:- {ele} | Lenght of Each Element:- {len(ele)}\")"
      ],
      "metadata": {
        "id": "DQKx5z-68zia"
      },
      "execution_count": null,
      "outputs": []
    },
    {
      "cell_type": "code",
      "source": [
        "count_ele(['anish' , 'komal' , 'meet' , 'pratik'])"
      ],
      "metadata": {
        "colab": {
          "base_uri": "https://localhost:8080/"
        },
        "id": "iX9Z9hzr9UNK",
        "outputId": "cb65a17d-73ce-445f-f5e5-d526198c3eca"
      },
      "execution_count": null,
      "outputs": [
        {
          "output_type": "stream",
          "name": "stdout",
          "text": [
            "Element:- anish | Lenght of Each Element:- 5\n",
            "Element:- komal | Lenght of Each Element:- 5\n",
            "Element:- meet | Lenght of Each Element:- 4\n",
            "Element:- pratik | Lenght of Each Element:- 6\n"
          ]
        }
      ]
    },
    {
      "cell_type": "code",
      "source": [],
      "metadata": {
        "id": "akJ6Nbcj9jyC"
      },
      "execution_count": null,
      "outputs": []
    },
    {
      "cell_type": "markdown",
      "source": [
        "5. Write a Python program to find the second largest number in a list.\n"
      ],
      "metadata": {
        "id": "hz3GSVS09t2d"
      }
    },
    {
      "cell_type": "code",
      "source": [
        "def second_largest_number(number):\n",
        "  number.sort()\n",
        "  largest = number[-2]\n",
        "  print(f'List :- {number} , Second Largest Number:- {largest}')"
      ],
      "metadata": {
        "id": "J6yoQ54S9unx"
      },
      "execution_count": null,
      "outputs": []
    },
    {
      "cell_type": "code",
      "source": [
        "second_largest_number([12,50,90,11,13,64,10,25])"
      ],
      "metadata": {
        "colab": {
          "base_uri": "https://localhost:8080/"
        },
        "id": "-OZHAXIP90tB",
        "outputId": "703b32d6-57d0-4670-dca7-2feac7142161"
      },
      "execution_count": null,
      "outputs": [
        {
          "output_type": "stream",
          "name": "stdout",
          "text": [
            "List :- [10, 11, 12, 13, 25, 50, 64, 90] , Second Largest Number:- 64\n"
          ]
        }
      ]
    },
    {
      "cell_type": "code",
      "source": [],
      "metadata": {
        "id": "FkpwdGyV9-6R"
      },
      "execution_count": null,
      "outputs": []
    },
    {
      "cell_type": "markdown",
      "source": [
        "6. Implement a function to remove duplicate elements from a list.\n"
      ],
      "metadata": {
        "id": "DRgQPYeKAnQP"
      }
    },
    {
      "cell_type": "code",
      "source": [
        "my_list = ['anish' , 'manish' , 'anish' , 'mukesh','sarita']\n",
        "new_list = set(my_list)\n",
        "print(new_list)"
      ],
      "metadata": {
        "colab": {
          "base_uri": "https://localhost:8080/"
        },
        "id": "BY0xvafFAoXy",
        "outputId": "651af873-adda-4deb-ad75-8c092d214061"
      },
      "execution_count": null,
      "outputs": [
        {
          "output_type": "stream",
          "name": "stdout",
          "text": [
            "{'mukesh', 'manish', 'anish', 'sarita'}\n"
          ]
        }
      ]
    },
    {
      "cell_type": "code",
      "source": [],
      "metadata": {
        "id": "NYGRCoGFCViy"
      },
      "execution_count": null,
      "outputs": []
    },
    {
      "cell_type": "markdown",
      "source": [
        "7. Write a program to calculate the factorial of a given number."
      ],
      "metadata": {
        "id": "hD2FqoxwTfFI"
      }
    },
    {
      "cell_type": "code",
      "source": [
        "# find factotical\n",
        "n = int(input('Enter Number: '))\n",
        "fac = 1\n",
        "for i in range (1 ,n+1):\n",
        "  if n ==0:\n",
        "    print(f'{n}Fectorial is 1')\n",
        "  else:\n",
        "    fac = fac*i\n",
        "print(f'{n} Factorial is {fac}')"
      ],
      "metadata": {
        "colab": {
          "base_uri": "https://localhost:8080/"
        },
        "id": "0DW_XlQ2Tftj",
        "outputId": "8046e36a-2722-46b4-c12d-3dcc0c9f10f7"
      },
      "execution_count": null,
      "outputs": [
        {
          "output_type": "stream",
          "name": "stdout",
          "text": [
            "Enter Number: 6\n",
            "6 Factorial is 720\n"
          ]
        }
      ]
    },
    {
      "cell_type": "code",
      "source": [],
      "metadata": {
        "id": "cA-9CFZaTlmY"
      },
      "execution_count": null,
      "outputs": []
    },
    {
      "cell_type": "markdown",
      "source": [
        "8. Implement a function to check if a given number is prime.\n"
      ],
      "metadata": {
        "id": "8djcos-kXb4f"
      }
    },
    {
      "cell_type": "code",
      "source": [
        "# find prime number\n",
        "number = int(input('Enter Number: '))\n",
        "if number ==2:\n",
        "  print(f'{number} this number is prime number. ')\n",
        "elif number%2 != 0:\n",
        "  print(f'{number} this number is prime number. ')\n",
        "else:\n",
        "  print(f'{number} this number is not prime number. ')"
      ],
      "metadata": {
        "colab": {
          "base_uri": "https://localhost:8080/"
        },
        "id": "Ktx6LRS_Xcki",
        "outputId": "64b47d42-4820-4120-d727-61eb02c0b18d"
      },
      "execution_count": null,
      "outputs": [
        {
          "output_type": "stream",
          "name": "stdout",
          "text": [
            "Enter Number: 1004\n",
            "1004 this number is not prime number. \n"
          ]
        }
      ]
    },
    {
      "cell_type": "code",
      "source": [],
      "metadata": {
        "id": "6pTwj9iXYb72"
      },
      "execution_count": null,
      "outputs": []
    },
    {
      "cell_type": "markdown",
      "source": [
        "9. Write a Python program to sort a list of integers in ascending order.\n"
      ],
      "metadata": {
        "id": "6WilFadGZOO-"
      }
    },
    {
      "cell_type": "code",
      "source": [
        "old_list = ['anish' , 'mukesh' , 12 , 'w' , 10 , 16 , 18,5,6,9,13,15,'a' , 'w']\n",
        "new_list =[]\n",
        "for num in old_list:\n",
        "  if type(num) == int:\n",
        "    new_list.append(num)\n",
        "print(f'old List: {old_list}')\n",
        "new_list.sort()\n",
        "print(f'Update and ascending order: {new_list}')"
      ],
      "metadata": {
        "colab": {
          "base_uri": "https://localhost:8080/"
        },
        "id": "4BuOrDDAZO0h",
        "outputId": "66b753c1-5128-4221-f384-b94c3e6c01ee"
      },
      "execution_count": null,
      "outputs": [
        {
          "output_type": "stream",
          "name": "stdout",
          "text": [
            "old List: ['anish', 'mukesh', 12, 'w', 10, 16, 18, 5, 6, 9, 13, 15, 'a', 'w']\n",
            "Update and ascending order: [5, 6, 9, 10, 12, 13, 15, 16, 18]\n"
          ]
        }
      ]
    },
    {
      "cell_type": "code",
      "source": [],
      "metadata": {
        "id": "mljtPuYiahUq"
      },
      "execution_count": null,
      "outputs": []
    },
    {
      "cell_type": "markdown",
      "source": [
        "10. Implement a function to find the sum of all numbers in a list."
      ],
      "metadata": {
        "id": "a1Mo3XmcbnVe"
      }
    },
    {
      "cell_type": "code",
      "source": [
        "# find sum of list\n",
        "\n",
        "list1 =  [5, 6, 9, 10, 12, 13, 15, 16, 18]\n",
        "sum =0\n",
        "for num in list1:\n",
        "  sum = sum+num\n",
        "\n",
        "print(f'Sum of {sum}')"
      ],
      "metadata": {
        "colab": {
          "base_uri": "https://localhost:8080/"
        },
        "id": "upsaJoKKbojC",
        "outputId": "090c4af3-dd86-4649-f3ce-97e3da6ee7da"
      },
      "execution_count": null,
      "outputs": [
        {
          "output_type": "stream",
          "name": "stdout",
          "text": [
            "Sum of 104\n"
          ]
        }
      ]
    },
    {
      "cell_type": "code",
      "source": [],
      "metadata": {
        "id": "GF3883oZfopa"
      },
      "execution_count": null,
      "outputs": []
    },
    {
      "cell_type": "markdown",
      "source": [
        "11. Write a program to find the common elements between two lists."
      ],
      "metadata": {
        "id": "hbMFSOc0fzWm"
      }
    },
    {
      "cell_type": "code",
      "source": [
        "# Python program to find the common elements\n",
        "# in two lists\n",
        "def common_member(a, b):\n",
        "\ta_set = set(a)\n",
        "\tb_set = set(b)\n",
        "\n",
        "\tif (a_set & b_set):\n",
        "\t\tprint(a_set & b_set)\n",
        "\telse:\n",
        "\t\tprint(\"No common elements\")\n",
        "\n",
        "\n",
        "a = [1, 2, 3, 4, 5]\n",
        "b = [5, 6, 7, 8, 9]\n",
        "common_member(a, b)\n",
        "\n"
      ],
      "metadata": {
        "colab": {
          "base_uri": "https://localhost:8080/"
        },
        "id": "c9hAU-Oqf0ZJ",
        "outputId": "b0da0bb1-ac21-47f3-a4b2-84bf8c7563f2"
      },
      "execution_count": null,
      "outputs": [
        {
          "output_type": "stream",
          "name": "stdout",
          "text": [
            "{5}\n"
          ]
        }
      ]
    },
    {
      "cell_type": "code",
      "source": [],
      "metadata": {
        "id": "lI7LMsfMgyRS"
      },
      "execution_count": null,
      "outputs": []
    },
    {
      "cell_type": "markdown",
      "source": [
        "2. Implement a function to check if a given string is an anagram of another string."
      ],
      "metadata": {
        "id": "oNCyL8ZwhA4O"
      }
    },
    {
      "cell_type": "code",
      "source": [
        "\n",
        "\t# Function is to check whether two strings are anagram of each other or not.\n",
        "def isAnagram(a, b):\n",
        "  if sorted(a) == sorted(b):\n",
        "    print(True)\n",
        "  else:\n",
        "    print(False)\n",
        "\n"
      ],
      "metadata": {
        "id": "ilPDjxyehBiR"
      },
      "execution_count": null,
      "outputs": []
    },
    {
      "cell_type": "code",
      "source": [
        "isAnagram(\"gram\" , 'ram')"
      ],
      "metadata": {
        "colab": {
          "base_uri": "https://localhost:8080/"
        },
        "id": "LhCEK-2DhzHJ",
        "outputId": "7e265357-70f3-45a0-ac76-cc06dee7710d"
      },
      "execution_count": null,
      "outputs": [
        {
          "output_type": "stream",
          "name": "stdout",
          "text": [
            "False\n"
          ]
        }
      ]
    },
    {
      "cell_type": "code",
      "source": [],
      "metadata": {
        "id": "4sl7OdiKkeCm"
      },
      "execution_count": null,
      "outputs": []
    },
    {
      "cell_type": "markdown",
      "source": [
        "13. Write a Python program to generate all permutations of a given string"
      ],
      "metadata": {
        "id": "XgXL0gD9ki43"
      }
    },
    {
      "cell_type": "code",
      "source": [
        "# Python3 program to print all permutations with\n",
        "# duplicates allowed\n",
        "\n",
        "\n",
        "def toString(List):\n",
        "\treturn ''.join(List)\n",
        "\n",
        "# Function to print permutations of string\n",
        "# This function takes three parameters:\n",
        "# 1. String\n",
        "# 2. Starting index of the string\n",
        "# 3. Ending index of the string.\n",
        "\n",
        "\n",
        "def permute(a, l, r):\n",
        "\tif l == r:\n",
        "\t\tprint(toString(a))\n",
        "\telse:\n",
        "\t\tfor i in range(l, r):\n",
        "\t\t\ta[l], a[i] = a[i], a[l]\n",
        "\t\t\tpermute(a, l+1, r)\n",
        "\t\t\ta[l], a[i] = a[i], a[l] # backtrack\n",
        "\n",
        "\n",
        "# Driver code\n",
        "string = \"ABC\"\n",
        "n = len(string)\n",
        "a = list(string)\n",
        "\n",
        "# Function call\n",
        "permute(a, 0, n)\n",
        "\n",
        "\n"
      ],
      "metadata": {
        "colab": {
          "base_uri": "https://localhost:8080/"
        },
        "id": "nDcxkBKokjea",
        "outputId": "06782add-7927-4421-c9e1-fe2d5caf9363"
      },
      "execution_count": null,
      "outputs": [
        {
          "output_type": "stream",
          "name": "stdout",
          "text": [
            "ABC\n",
            "ACB\n",
            "BAC\n",
            "BCA\n",
            "CBA\n",
            "CAB\n"
          ]
        }
      ]
    },
    {
      "cell_type": "code",
      "source": [],
      "metadata": {
        "id": "m4v8p9eDk2h7"
      },
      "execution_count": null,
      "outputs": []
    },
    {
      "cell_type": "markdown",
      "source": [
        "14. Implement a function to calculate the Fibonacci sequence up to a given number of terms.\n"
      ],
      "metadata": {
        "id": "Tk8B70V0k6gt"
      }
    },
    {
      "cell_type": "code",
      "source": [
        "# Function for nth fibonacci number - Space Optimisation\n",
        "# Taking 1st two fibonacci numbers as 0 and 1\n",
        "\n",
        "\n",
        "def fibonacci(n):\n",
        "\ta = 0\n",
        "\tb = 1\n",
        "\tif n < 0:\n",
        "\t\tprint(\"Incorrect input\")\n",
        "\telif n == 0:\n",
        "\t\treturn a\n",
        "\telif n == 1:\n",
        "\t\treturn b\n",
        "\telse:\n",
        "\t\tfor i in range(2, n+1):\n",
        "\t\t\tc = a + b\n",
        "\t\t\ta = b\n",
        "\t\t\tb = c\n",
        "\t\treturn b\n",
        "\n",
        "# Driver Program\n",
        "\n",
        "\n",
        "print(fibonacci(9))\n",
        "\n",
        "\n"
      ],
      "metadata": {
        "colab": {
          "base_uri": "https://localhost:8080/"
        },
        "id": "Z0SebhuKk7gB",
        "outputId": "451fc0fe-86da-41a0-8440-6c098987f74a"
      },
      "execution_count": null,
      "outputs": [
        {
          "output_type": "stream",
          "name": "stdout",
          "text": [
            "34\n"
          ]
        }
      ]
    },
    {
      "cell_type": "code",
      "source": [],
      "metadata": {
        "id": "nFhizgknlLML"
      },
      "execution_count": null,
      "outputs": []
    },
    {
      "cell_type": "markdown",
      "source": [
        "15. Write a program to find the median of a list of numbers"
      ],
      "metadata": {
        "id": "BKmcXxnTlUTN"
      }
    },
    {
      "cell_type": "code",
      "source": [
        "list1 =  [5, 6, 9, 10, 12, 13, 15, 16, 18,19]\n",
        "sum = 0\n",
        "\n",
        "for i in list1:\n",
        "  sum = sum+i\n",
        "print(f'Median of List: {sum/len(list1)}')"
      ],
      "metadata": {
        "colab": {
          "base_uri": "https://localhost:8080/"
        },
        "id": "5z22hzh-lVIh",
        "outputId": "2ff618c7-2978-47db-e60e-ba0c4120b86d"
      },
      "execution_count": null,
      "outputs": [
        {
          "output_type": "stream",
          "name": "stdout",
          "text": [
            "Median of List: 12.3\n"
          ]
        }
      ]
    },
    {
      "cell_type": "code",
      "source": [],
      "metadata": {
        "id": "bWiPHbSPlqXJ"
      },
      "execution_count": null,
      "outputs": []
    },
    {
      "cell_type": "markdown",
      "source": [
        "16. Implement a function to check if a given list is sorted in non-decreasing order.\n"
      ],
      "metadata": {
        "id": "eUw5qH3361EM"
      }
    },
    {
      "cell_type": "code",
      "source": [
        "\n",
        "def arraySortedOrNot(arr, n):\n",
        "\n",
        "\t# Base case\n",
        "\tif (n == 0 or n == 1):\n",
        "\t\treturn True\n",
        "\n",
        "\t# Check if present index and index\n",
        "\t# previous to it are in correct order\n",
        "\t# and rest of the array is also sorted\n",
        "\t# if true then return true else return\n",
        "\t# false\n",
        "\treturn (arr[n - 1] >= arr[n - 2] and\n",
        "\t\t\tarraySortedOrNot(arr, n - 1))\n",
        "\n",
        "# Driver code\n",
        "arr = [ 20, 23, 23, 45, 78, 88 ]\n",
        "n = len(arr)\n",
        "\n",
        "# Function Call\n",
        "if (arraySortedOrNot(arr, n)):\n",
        "\tprint(\"Yes\")\n",
        "else:\n",
        "\tprint(\"No\")\n",
        "\n"
      ],
      "metadata": {
        "colab": {
          "base_uri": "https://localhost:8080/"
        },
        "id": "edZLghBc61z3",
        "outputId": "3a97ee01-0f67-403a-8199-5b0e8765d51c"
      },
      "execution_count": null,
      "outputs": [
        {
          "output_type": "stream",
          "name": "stdout",
          "text": [
            "Yes\n"
          ]
        }
      ]
    },
    {
      "cell_type": "code",
      "source": [],
      "metadata": {
        "id": "sA-jLv258E9o"
      },
      "execution_count": null,
      "outputs": []
    },
    {
      "cell_type": "markdown",
      "source": [
        "18. Implement a function to find the maximum subarray sum in a given list.\n"
      ],
      "metadata": {
        "id": "lXIrk3e99dYW"
      }
    },
    {
      "cell_type": "code",
      "source": [
        "def max_sub_sum(n,k):\n",
        "  # n = user input list\n",
        "  # k = size of subarray\n",
        "  sum=0\n",
        "  n.sort()\n",
        "  print(f'Sort list: {n}')\n",
        "  new_list = n[:(-k-1):-1]\n",
        "  print(f'Subarry list: {new_list}')\n",
        "  for num in new_list:\n",
        "    sum = sum+num\n",
        "  print(f'Sum of subarry: {sum}')\n",
        "\n",
        "# code driver\n",
        "max_sub_sum([10,15,16,5,9,1,55,13],3)\n",
        "\n"
      ],
      "metadata": {
        "colab": {
          "base_uri": "https://localhost:8080/"
        },
        "id": "T4gvDDvA9fRf",
        "outputId": "6322ec31-43e8-4944-a91d-d1ef76cfa8e2"
      },
      "execution_count": null,
      "outputs": [
        {
          "output_type": "stream",
          "name": "stdout",
          "text": [
            "Sort list: [1, 5, 9, 10, 13, 15, 16, 55]\n",
            "Subarry list: [55, 16, 15]\n",
            "Sum of subarry: 86\n"
          ]
        }
      ]
    },
    {
      "cell_type": "code",
      "source": [],
      "metadata": {
        "id": "WZ3Ox_sOADRf"
      },
      "execution_count": null,
      "outputs": []
    },
    {
      "cell_type": "markdown",
      "source": [
        "19. Write a program to remove all vowels from a given string."
      ],
      "metadata": {
        "id": "4Gr0laMcDC-c"
      }
    },
    {
      "cell_type": "code",
      "source": [
        "# Python program to remove vowels from a string\n",
        "# Function to remove vowels\n",
        "def rem_vowel(string):\n",
        "\tvowels = ['a','e','i','o','u']\n",
        "\tresult = [letter for letter in string if letter.lower() not in vowels]\n",
        "\tresult = ''.join(result)\n",
        "\tprint(result)\n",
        "\n",
        "# Driver program\n",
        "string = \"my county name is india and currently live in ahmedabad\"\n",
        "rem_vowel(string)\n",
        "string = \"Loving Python coding\"\n",
        "rem_vowel(string)\n"
      ],
      "metadata": {
        "colab": {
          "base_uri": "https://localhost:8080/"
        },
        "id": "Pm-CU2bqDD3X",
        "outputId": "2f21848f-6253-4f41-a546-947c6e1ad27f"
      },
      "execution_count": null,
      "outputs": [
        {
          "output_type": "stream",
          "name": "stdout",
          "text": [
            "my cnty nm s nd nd crrntly lv n hmdbd\n",
            "Lvng Pythn cdng\n"
          ]
        }
      ]
    },
    {
      "cell_type": "code",
      "source": [],
      "metadata": {
        "id": "PeDJc7TnDtB4"
      },
      "execution_count": null,
      "outputs": []
    },
    {
      "cell_type": "markdown",
      "source": [
        "20. Implement a function to reverse the order of words in a given sentence."
      ],
      "metadata": {
        "id": "NDWGGIhYG1Na"
      }
    },
    {
      "cell_type": "code",
      "source": [
        "# Python3 program to reverse a string\n",
        "s = \"i like this program very much\"\n",
        "words = s.split(' ')\n",
        "string = []\n",
        "for word in words:\n",
        "\tstring.insert(0, word)\n",
        "\n",
        "\n",
        "print(\" \".join(string))\n",
        "\n"
      ],
      "metadata": {
        "colab": {
          "base_uri": "https://localhost:8080/"
        },
        "id": "Iy1qEPFjM2Fj",
        "outputId": "ebdddd21-df91-4b01-d9b0-ad8c24d85b1b"
      },
      "execution_count": null,
      "outputs": [
        {
          "output_type": "stream",
          "name": "stdout",
          "text": [
            "much very program this like i\n"
          ]
        }
      ]
    },
    {
      "cell_type": "code",
      "source": [],
      "metadata": {
        "id": "2QVP68DSPz5G"
      },
      "execution_count": null,
      "outputs": []
    },
    {
      "cell_type": "markdown",
      "source": [
        "21. Write a Python program to check if two strings are anagrams of each other.\n"
      ],
      "metadata": {
        "id": "G_rLEWEWQTez"
      }
    },
    {
      "cell_type": "code",
      "source": [
        "# Function is to check whether two strings are anagram of each other or not.\n",
        "def isAnagramstring(a, b):\n",
        "  if sorted(a) == sorted(b):\n",
        "    print(True)\n",
        "  else:\n",
        "    print(False)"
      ],
      "metadata": {
        "id": "ADpdgHlpQUH5"
      },
      "execution_count": null,
      "outputs": []
    },
    {
      "cell_type": "code",
      "source": [
        "isAnagramstring('anish' , 'manish')"
      ],
      "metadata": {
        "colab": {
          "base_uri": "https://localhost:8080/"
        },
        "id": "skbecd1uQdIT",
        "outputId": "c1cc3049-b65e-4737-c476-2e985f3c4651"
      },
      "execution_count": null,
      "outputs": [
        {
          "output_type": "stream",
          "name": "stdout",
          "text": [
            "False\n"
          ]
        }
      ]
    },
    {
      "cell_type": "code",
      "source": [],
      "metadata": {
        "id": "5cZJ_LXHQiRW"
      },
      "execution_count": null,
      "outputs": []
    },
    {
      "cell_type": "markdown",
      "source": [
        "22. Implement a function to find the first non-repeating character in a string.\n"
      ],
      "metadata": {
        "id": "GzXtTctJQp1n"
      }
    },
    {
      "cell_type": "code",
      "source": [
        "\n",
        "def FirstNonRepeat(s):\n",
        "\n",
        "\tfor i in s:\n",
        "\n",
        "\t\tif (s.find(i, (s.find(i)+1))) == -1:\n",
        "\n",
        "\t\t\tprint(\"First non-repeating character is\", i)\n",
        "\n",
        "\t\t\tbreak\n",
        "\n",
        "\treturn\n",
        "\n",
        "\n",
        "\n",
        "\n",
        "s = 'anish maurya komal anish'\n",
        "\n",
        "FirstNonRepeat(s)\n"
      ],
      "metadata": {
        "colab": {
          "base_uri": "https://localhost:8080/"
        },
        "id": "l7r9qLJrQqi-",
        "outputId": "177d3769-0f5a-4951-a6ec-1883f960895b"
      },
      "execution_count": 1,
      "outputs": [
        {
          "output_type": "stream",
          "name": "stdout",
          "text": [
            "First non-repeating character is u\n"
          ]
        }
      ]
    },
    {
      "cell_type": "code",
      "source": [],
      "metadata": {
        "id": "-oU_WhNQTS-w"
      },
      "execution_count": null,
      "outputs": []
    },
    {
      "cell_type": "markdown",
      "source": [
        "23. Write a program to find the prime factors of a given number.\n"
      ],
      "metadata": {
        "id": "Oo37C7vde-BA"
      }
    },
    {
      "cell_type": "code",
      "source": [
        "def Prime_Factorial(n):\n",
        "    if n < 4:\n",
        "        return n\n",
        "    arr = []\n",
        "    while n > 1:\n",
        "        for i in range(2, int(2+n//2)):\n",
        "            if i == (1 + n // 2):\n",
        "                arr.append(n)\n",
        "                n = n // n\n",
        "            if n % i == 0:\n",
        "                arr.append(i)\n",
        "                n = n // i\n",
        "                break\n",
        "    return arr\n",
        "\n"
      ],
      "metadata": {
        "id": "C8uPgkTVe-nW"
      },
      "execution_count": 5,
      "outputs": []
    },
    {
      "cell_type": "code",
      "source": [
        "Prime_Factorial(5)"
      ],
      "metadata": {
        "colab": {
          "base_uri": "https://localhost:8080/"
        },
        "id": "C6wgBYtPgECg",
        "outputId": "188b2561-a7b2-4f3e-d08f-c6a7e6155690"
      },
      "execution_count": 7,
      "outputs": [
        {
          "output_type": "execute_result",
          "data": {
            "text/plain": [
              "[5]"
            ]
          },
          "metadata": {},
          "execution_count": 7
        }
      ]
    },
    {
      "cell_type": "code",
      "source": [],
      "metadata": {
        "id": "6v46XrlZhGNe"
      },
      "execution_count": null,
      "outputs": []
    },
    {
      "cell_type": "markdown",
      "source": [
        "24. Implement a function to check if a given number is a power of two.\n"
      ],
      "metadata": {
        "id": "K3mgY-dDheYq"
      }
    },
    {
      "cell_type": "code",
      "source": [
        "def isPowerOfTwo(n):\n",
        "    if (n == 0):\n",
        "        return False\n",
        "    while (n != 1):\n",
        "        if (n % 2 != 0):\n",
        "            return True\n",
        "        n = n // 2\n",
        "\n",
        "    return False"
      ],
      "metadata": {
        "id": "NceXeCY7ik5-"
      },
      "execution_count": 25,
      "outputs": []
    },
    {
      "cell_type": "code",
      "source": [
        "isPowerOfTwo(36)"
      ],
      "metadata": {
        "colab": {
          "base_uri": "https://localhost:8080/"
        },
        "id": "AjJ9G3JhinjN",
        "outputId": "663ec046-fc4f-4448-a05a-912710d003c1"
      },
      "execution_count": 28,
      "outputs": [
        {
          "output_type": "execute_result",
          "data": {
            "text/plain": [
              "True"
            ]
          },
          "metadata": {},
          "execution_count": 28
        }
      ]
    },
    {
      "cell_type": "code",
      "source": [],
      "metadata": {
        "id": "AcSP0NxHkQ58"
      },
      "execution_count": null,
      "outputs": []
    },
    {
      "cell_type": "markdown",
      "source": [
        "25. Write a Python program to merge two sorted lists into a single sorted list."
      ],
      "metadata": {
        "id": "-UnydY-zkyur"
      }
    },
    {
      "cell_type": "code",
      "source": [
        "\n",
        "# to combine two sorted list\n",
        "# using sorted()\n",
        "\n",
        "# initializing lists\n",
        "test_list1 = [1, 5, 6, 9, 11]\n",
        "test_list2 = [3, 4, 7, 8, 10]\n",
        "\n",
        "# printing original lists\n",
        "print (\"The original list 1 is : \" + str(test_list1))\n",
        "print (\"The original list 2 is : \" + str(test_list2))\n",
        "\n",
        "# using sorted()\n",
        "# to combine two sorted lists\n",
        "res = sorted(test_list1 + test_list2)\n",
        "\n",
        "# printing result\n",
        "print (f\"The combined sorted list is : {str(res)}\")"
      ],
      "metadata": {
        "colab": {
          "base_uri": "https://localhost:8080/"
        },
        "id": "bz01VJaYkz9V",
        "outputId": "d161ddbc-66d7-46d6-ccb6-3bfdfc95342a"
      },
      "execution_count": 33,
      "outputs": [
        {
          "output_type": "stream",
          "name": "stdout",
          "text": [
            "The original list 1 is : [1, 5, 6, 9, 11]\n",
            "The original list 2 is : [3, 4, 7, 8, 10]\n",
            "The combined sorted list is : [1, 3, 4, 5, 6, 7, 8, 9, 10, 11]\n"
          ]
        }
      ]
    },
    {
      "cell_type": "code",
      "source": [],
      "metadata": {
        "id": "vo2A-O7Sl5_s"
      },
      "execution_count": null,
      "outputs": []
    },
    {
      "cell_type": "markdown",
      "source": [
        "26. Implement a function to find the mode of a list of numbers.\n"
      ],
      "metadata": {
        "id": "wuGyK_TlmVli"
      }
    },
    {
      "cell_type": "code",
      "source": [
        "import numpy as np\n",
        "def find_mode(array):\n",
        "  vals,counts = np.unique(array,return_counts = True)\n",
        "  index = np.argmax(counts)\n",
        "  return(vals[index])"
      ],
      "metadata": {
        "id": "NKgVsRDWnfgz"
      },
      "execution_count": 47,
      "outputs": []
    },
    {
      "cell_type": "code",
      "source": [
        "find_mode([600,500,100,200,250,200,600,200])"
      ],
      "metadata": {
        "colab": {
          "base_uri": "https://localhost:8080/"
        },
        "id": "tj9djFd2rEsy",
        "outputId": "696913aa-16da-40d5-f675-923f640e29bc"
      },
      "execution_count": 48,
      "outputs": [
        {
          "output_type": "execute_result",
          "data": {
            "text/plain": [
              "200"
            ]
          },
          "metadata": {},
          "execution_count": 48
        }
      ]
    },
    {
      "cell_type": "code",
      "source": [],
      "metadata": {
        "id": "nOPUdBQGrLqh"
      },
      "execution_count": null,
      "outputs": []
    },
    {
      "cell_type": "markdown",
      "source": [
        "27. Write a program to find the greatest common divisor (GCD) of two numbers."
      ],
      "metadata": {
        "id": "VMCsCgbGrT3Y"
      }
    },
    {
      "cell_type": "code",
      "source": [
        "def gcd(a, b):\n",
        "\n",
        "    # Find minimum of a and b\n",
        "    result = min(a, b)\n",
        "\n",
        "    while result:\n",
        "        if a % result == 0 and b % result == 0:\n",
        "            break\n",
        "        result -= 1\n",
        "\n",
        "    # Return the gcd of a and b\n",
        "    return result"
      ],
      "metadata": {
        "id": "xwQygW1FrXIH"
      },
      "execution_count": 49,
      "outputs": []
    },
    {
      "cell_type": "code",
      "source": [
        "gcd(25,30)"
      ],
      "metadata": {
        "colab": {
          "base_uri": "https://localhost:8080/"
        },
        "id": "wM2pv34owSyS",
        "outputId": "4c5a0e5b-fd4a-427d-e99d-01d03cae8fbc"
      },
      "execution_count": 50,
      "outputs": [
        {
          "output_type": "execute_result",
          "data": {
            "text/plain": [
              "5"
            ]
          },
          "metadata": {},
          "execution_count": 50
        }
      ]
    },
    {
      "cell_type": "code",
      "source": [],
      "metadata": {
        "id": "Vmn5a-PMwVPf"
      },
      "execution_count": null,
      "outputs": []
    },
    {
      "cell_type": "markdown",
      "source": [
        "8. Implement a function to calculate the square root of a given number."
      ],
      "metadata": {
        "id": "Jq0ZvPTfyUYO"
      }
    },
    {
      "cell_type": "code",
      "source": [
        "import math\n",
        "def square_root(number):\n",
        "  result = math.sqrt(number)\n",
        "  return result"
      ],
      "metadata": {
        "id": "z0ItRwK4yVNN"
      },
      "execution_count": 51,
      "outputs": []
    },
    {
      "cell_type": "code",
      "source": [
        " square_root(36)"
      ],
      "metadata": {
        "colab": {
          "base_uri": "https://localhost:8080/"
        },
        "id": "cDlJfPVC0pOe",
        "outputId": "2dd92afc-4052-4ced-c5e9-6becdb0aa6f8"
      },
      "execution_count": 52,
      "outputs": [
        {
          "output_type": "execute_result",
          "data": {
            "text/plain": [
              "6.0"
            ]
          },
          "metadata": {},
          "execution_count": 52
        }
      ]
    },
    {
      "cell_type": "code",
      "source": [],
      "metadata": {
        "id": "U9MZ2OkQ0rkN"
      },
      "execution_count": null,
      "outputs": []
    },
    {
      "cell_type": "markdown",
      "source": [
        "29. Write a Python program to check if a given string is a valid palindrome ignoring non-alphanumeric characters.\n"
      ],
      "metadata": {
        "id": "iaLVKxrK0zpV"
      }
    },
    {
      "cell_type": "code",
      "source": [
        "def palindrome(word):\n",
        "  if word == word[::-1]:\n",
        "    return True\n",
        "  else:\n",
        "    return False"
      ],
      "metadata": {
        "id": "BqfCPQRK00as"
      },
      "execution_count": 56,
      "outputs": []
    },
    {
      "cell_type": "code",
      "source": [
        "palindrome('sagar')"
      ],
      "metadata": {
        "colab": {
          "base_uri": "https://localhost:8080/"
        },
        "id": "quLV3-5Y1Rn-",
        "outputId": "c24a9da2-d67a-4491-e3c1-bf9bfc687ef4"
      },
      "execution_count": 57,
      "outputs": [
        {
          "output_type": "execute_result",
          "data": {
            "text/plain": [
              "False"
            ]
          },
          "metadata": {},
          "execution_count": 57
        }
      ]
    },
    {
      "cell_type": "code",
      "source": [
        ""
      ],
      "metadata": {
        "id": "v7x63J4I1UKO"
      },
      "execution_count": null,
      "outputs": []
    },
    {
      "cell_type": "markdown",
      "source": [
        "30. Implement a function to find the minimum element in a rotated sorted list.\n"
      ],
      "metadata": {
        "id": "uCAJrB1N1je8"
      }
    },
    {
      "cell_type": "code",
      "source": [
        "def find_min(list_1):\n",
        "  list_1.sort()\n",
        "  result = min(list_1)\n",
        "  return result"
      ],
      "metadata": {
        "id": "MxbIAdBD1kT9"
      },
      "execution_count": 58,
      "outputs": []
    },
    {
      "cell_type": "code",
      "source": [
        "find_min([200,100,50,60,90,150,13,16])"
      ],
      "metadata": {
        "colab": {
          "base_uri": "https://localhost:8080/"
        },
        "id": "nddylnOf2hpA",
        "outputId": "4b91b607-1fa8-4224-87b4-bdf249b32c62"
      },
      "execution_count": 59,
      "outputs": [
        {
          "output_type": "execute_result",
          "data": {
            "text/plain": [
              "13"
            ]
          },
          "metadata": {},
          "execution_count": 59
        }
      ]
    },
    {
      "cell_type": "code",
      "source": [],
      "metadata": {
        "id": "b2sLbIom2oL1"
      },
      "execution_count": null,
      "outputs": []
    },
    {
      "cell_type": "markdown",
      "source": [
        "31. Write a program to find the sum of all even numbers in a list.\n"
      ],
      "metadata": {
        "id": "4WhoUAjI2r4d"
      }
    },
    {
      "cell_type": "code",
      "source": [
        "def sum_even(list_2):\n",
        "  even_list = []\n",
        "  sum = 0\n",
        "  for num in list_2:\n",
        "    if num % 2 == 0:\n",
        "      even_list.append(num)\n",
        "  if len(even_list) == 0:\n",
        "    print(f'Not Any even number in this list. {list_2}')\n",
        "\n",
        "  for even in even_list:\n",
        "    sum = sum+even\n",
        "  print(f\"Even List is. {even_list} \\n Sum of. {sum}\")\n",
        "\n"
      ],
      "metadata": {
        "id": "dbg6_j2f2su9"
      },
      "execution_count": 94,
      "outputs": []
    },
    {
      "cell_type": "code",
      "source": [
        "sum_even([5,9,11,10,15,16,20,11,12,16,18,19,20])"
      ],
      "metadata": {
        "colab": {
          "base_uri": "https://localhost:8080/"
        },
        "id": "zkDWwIWm3wUJ",
        "outputId": "4e773dee-ef6b-4ed6-b0df-51451ae03ebd"
      },
      "execution_count": 97,
      "outputs": [
        {
          "output_type": "stream",
          "name": "stdout",
          "text": [
            "Even List is. [10, 16, 20, 12, 16, 18, 20] \n",
            " Sum of. 112\n"
          ]
        }
      ]
    },
    {
      "cell_type": "code",
      "source": [],
      "metadata": {
        "id": "KZ8xwgA53028"
      },
      "execution_count": null,
      "outputs": []
    },
    {
      "cell_type": "markdown",
      "source": [
        "32. Implement a function to calculate the power of a number using recursion.\n"
      ],
      "metadata": {
        "id": "d2fcoaVa5_mD"
      }
    },
    {
      "cell_type": "code",
      "source": [
        "def power(N, P):\n",
        "\n",
        "    # If power is 0 then return 1\n",
        "    # if condition is true\n",
        "    # only then it will enter it,\n",
        "    # otherwise not\n",
        "    if P == 0:\n",
        "        return 1\n",
        "\n",
        "    # Recurrence relation\n",
        "    return (N*power(N, P-1))"
      ],
      "metadata": {
        "id": "0Hgexlgb6AQ0"
      },
      "execution_count": 99,
      "outputs": []
    },
    {
      "cell_type": "code",
      "source": [
        "power(25,6)"
      ],
      "metadata": {
        "colab": {
          "base_uri": "https://localhost:8080/"
        },
        "id": "ISRwjjjE7SgL",
        "outputId": "6003f103-da98-42d0-ab42-73021bf258e4"
      },
      "execution_count": 100,
      "outputs": [
        {
          "output_type": "execute_result",
          "data": {
            "text/plain": [
              "244140625"
            ]
          },
          "metadata": {},
          "execution_count": 100
        }
      ]
    },
    {
      "cell_type": "code",
      "source": [],
      "metadata": {
        "id": "37e-76d07ZKU"
      },
      "execution_count": null,
      "outputs": []
    },
    {
      "cell_type": "markdown",
      "source": [
        "33. Write a Python program to remove duplicates from a list while preserving the order.\n"
      ],
      "metadata": {
        "id": "4Ug2PAsZ74jB"
      }
    },
    {
      "cell_type": "code",
      "source": [
        "# Python 3 code to demonstrate\n",
        "# removing duplicate elements from the list\n",
        "l = [1, 2, 4, 2, 1, 4, 5]\n",
        "print(\"Original List: \", l)\n",
        "res = [*set(l)]\n",
        "print(\"List after removing duplicate elements: \", res)\n"
      ],
      "metadata": {
        "colab": {
          "base_uri": "https://localhost:8080/"
        },
        "id": "Ev08pwEk75ok",
        "outputId": "ba39e423-b233-47f5-fc3d-33ac3b128c3b"
      },
      "execution_count": 101,
      "outputs": [
        {
          "output_type": "stream",
          "name": "stdout",
          "text": [
            "Original List:  [1, 2, 4, 2, 1, 4, 5]\n",
            "List after removing duplicate elements:  [1, 2, 4, 5]\n"
          ]
        }
      ]
    },
    {
      "cell_type": "code",
      "source": [],
      "metadata": {
        "id": "e8aAb_sRG404"
      },
      "execution_count": null,
      "outputs": []
    },
    {
      "cell_type": "markdown",
      "source": [
        "34. Implement a function to find the longest common prefix among a list of strings.\n"
      ],
      "metadata": {
        "id": "w_ytyk_NKUjt"
      }
    },
    {
      "cell_type": "code",
      "source": [
        "\n",
        "# common prefix of given array of words.\n",
        "def longestCommonPrefix( a):\n",
        "\n",
        "    size = len(a)\n",
        "\n",
        "    # if size is 0, return empty string\n",
        "    if (size == 0):\n",
        "        return \"\"\n",
        "\n",
        "    if (size == 1):\n",
        "        return a[0]\n",
        "\n",
        "    # sort the array of strings\n",
        "    a.sort()\n",
        "\n",
        "    # find the minimum length from\n",
        "    # first and last string\n",
        "    end = min(len(a[0]), len(a[size - 1]))\n",
        "\n",
        "    # find the common prefix between\n",
        "    # the first and last string\n",
        "    i = 0\n",
        "    while (i < end and\n",
        "           a[0][i] == a[size - 1][i]):\n",
        "        i += 1\n",
        "\n",
        "    pre = a[0][0: i]\n",
        "    return pre"
      ],
      "metadata": {
        "id": "ayuamyBTKVlU"
      },
      "execution_count": 103,
      "outputs": []
    },
    {
      "cell_type": "code",
      "source": [
        "longestCommonPrefix(['aninsh' , 'manish' , 'mukesha'])"
      ],
      "metadata": {
        "colab": {
          "base_uri": "https://localhost:8080/",
          "height": 35
        },
        "id": "QefrnmlYKgxB",
        "outputId": "d6f0e55b-4cbb-4538-8dde-eab4650e7f4f"
      },
      "execution_count": 105,
      "outputs": [
        {
          "output_type": "execute_result",
          "data": {
            "text/plain": [
              "''"
            ],
            "application/vnd.google.colaboratory.intrinsic+json": {
              "type": "string"
            }
          },
          "metadata": {},
          "execution_count": 105
        }
      ]
    },
    {
      "cell_type": "code",
      "source": [],
      "metadata": {
        "id": "ouLF_oWSKtQ8"
      },
      "execution_count": null,
      "outputs": []
    },
    {
      "cell_type": "markdown",
      "source": [
        "35. Write a program to check if a given number is a perfect square."
      ],
      "metadata": {
        "id": "uksCwGYtK6mb"
      }
    },
    {
      "cell_type": "code",
      "source": [
        "# Python program to find if x is a\n",
        "# perfect square.\n",
        "\n",
        "import math\n",
        "\n",
        "\n",
        "def isPerfectSquare(x):\n",
        "\n",
        "\t#if x >= 0,\n",
        "\tif(x >= 0):\n",
        "\t\tsr = int(math.sqrt(x))\n",
        "\t\t# sqrt function returns floating value so we have to convert it into integer\n",
        "\t\t#return boolean T/F\n",
        "\t\treturn ((sr*sr) == x)\n",
        "\treturn False\n"
      ],
      "metadata": {
        "id": "cxPlJjtwK7J0"
      },
      "execution_count": 106,
      "outputs": []
    },
    {
      "cell_type": "code",
      "source": [
        "isPerfectSquare(25)"
      ],
      "metadata": {
        "colab": {
          "base_uri": "https://localhost:8080/"
        },
        "id": "vl46V-VvLHnk",
        "outputId": "52e6a353-0138-448f-a3b2-cb56e5c63cb6"
      },
      "execution_count": 107,
      "outputs": [
        {
          "output_type": "execute_result",
          "data": {
            "text/plain": [
              "True"
            ]
          },
          "metadata": {},
          "execution_count": 107
        }
      ]
    },
    {
      "cell_type": "code",
      "source": [],
      "metadata": {
        "id": "ovqWJnFfLKXt"
      },
      "execution_count": null,
      "outputs": []
    }
  ]
}